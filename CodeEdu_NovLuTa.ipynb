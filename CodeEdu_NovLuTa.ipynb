{
  "cells": [
    {
      "cell_type": "code",
      "source": [],
      "metadata": {
        "id": "ogZMybnfNj3G"
      },
      "id": "ogZMybnfNj3G",
      "execution_count": null,
      "outputs": []
    },
    {
      "cell_type": "code",
      "execution_count": null,
      "id": "e6ba9fb3-511a-49a4-ab31-505bf2d85c3a",
      "metadata": {
        "id": "e6ba9fb3-511a-49a4-ab31-505bf2d85c3a"
      },
      "outputs": [],
      "source": [
        "import os\n",
        "llama2_13b = \"meta/llama-2-13b-chat:f4e2de70d66816a838a89eeeb621910adffb0dd0baba3976c96980970978018d\"\n",
        "os.environ[\"REPLICATE_API_TOKEN\"] = \"r8_czDqVut5po3mlGwy70W0sMArwdsmAOy3wq5ZJ\""
      ]
    },
    {
      "cell_type": "code",
      "execution_count": null,
      "id": "94307413-e4b1-4e57-8438-311530cd384c",
      "metadata": {
        "id": "94307413-e4b1-4e57-8438-311530cd384c"
      },
      "outputs": [],
      "source": [
        "from IPython.display import display, Markdown\n",
        "def md(t):\n",
        "  display(Markdown(t))"
      ]
    },
    {
      "cell_type": "markdown",
      "source": [],
      "metadata": {
        "id": "5Wk0AavsNfMK"
      },
      "id": "5Wk0AavsNfMK"
    },
    {
      "cell_type": "code",
      "execution_count": null,
      "id": "8727ef36-65ef-483c-9734-556266839660",
      "metadata": {
        "id": "8727ef36-65ef-483c-9734-556266839660"
      },
      "outputs": [],
      "source": [
        "import replicate\n",
        "# langchain setup\n",
        "from langchain.llms import Replicate\n",
        "# Use the Llama 2 model hosted on Replicate\n",
        "# Temperature: Adjusts randomness of outputs, greater than 1 is random and 0 is deterministic, 0.75 is a good starting value\n",
        "# top_p: When decoding text, samples from the top p percentage of most likely tokens; lower to ignore less likely tokens\n",
        "# max_new_tokens: Maximum number of tokens to generate. A word is generally 2-3 tokens\n",
        "llama_model = Replicate(\n",
        "    model=llama2_13b,\n",
        "    model_kwargs={\"temperature\": 0.5,\"top_p\": 1, \"max_new_tokens\":500}\n",
        ")"
      ]
    },
    {
      "cell_type": "code",
      "execution_count": null,
      "id": "337aec2c-b067-4d50-818e-bc2168f28571",
      "metadata": {
        "id": "337aec2c-b067-4d50-818e-bc2168f28571"
      },
      "outputs": [],
      "source": [
        "from langchain.embeddings import HuggingFaceEmbeddings\n",
        "from langchain.vectorstores import FAISS\n",
        "from langchain.document_loaders.csv_loader import CSVLoader\n",
        "from langchain.text_splitter import RecursiveCharacterTextSplitter"
      ]
    },
    {
      "cell_type": "code",
      "execution_count": null,
      "id": "68c841c0-fc6a-477b-ab20-2dcd0586566a",
      "metadata": {
        "id": "68c841c0-fc6a-477b-ab20-2dcd0586566a"
      },
      "outputs": [],
      "source": [
        "loaded_documents = []\n",
        "\n",
        "DATA_PATH = 'drugLibTrain_raw.tsv'\n",
        "loader = CSVLoader(file_path=DATA_PATH, csv_args={'delimiter': '\\t'},source_column=\"condition\")\n",
        "documents = loader.load()\n",
        "loaded_documents.extend(documents)\n",
        "\n",
        "#if loading the second dataset - it gets signifiantly slower\n",
        "#DATA_PATH = 'drugs_for_common_treatments.csv'\n",
        "#loader = CSVLoader(file_path=DATA_PATH,source_column=\"drug_name\")\n",
        "#documents = loader.load()\n",
        "#loaded_documents.extend(documents)"
      ]
    },
    {
      "cell_type": "code",
      "execution_count": null,
      "id": "dfc861b2-f4b8-40dc-9744-12610be113d7",
      "metadata": {
        "id": "dfc861b2-f4b8-40dc-9744-12610be113d7"
      },
      "outputs": [],
      "source": [
        "text_splitter = RecursiveCharacterTextSplitter(chunk_size=1000, chunk_overlap=20)\n",
        "splits = text_splitter.split_documents(loaded_documents)\n",
        "\n",
        "model_name='sentence-transformers/all-MiniLM-L6-v2'\n",
        "#model_name = \"sentence-transformers/all-mpnet-base-v2\"\n",
        "embeddings = HuggingFaceEmbeddings(model_name=model_name,\n",
        "                                       model_kwargs={'device': 'cpu'})\n",
        "\n",
        "#DB_FAISS_PATH = 'vectorstore/db_faiss'\n",
        "vectorstore = FAISS.from_documents(splits, embeddings)\n",
        "#db.save_local(DB_FAISS_PATH)"
      ]
    },
    {
      "cell_type": "code",
      "execution_count": null,
      "id": "d469aa07-7787-4595-b362-fd458ea11947",
      "metadata": {
        "id": "d469aa07-7787-4595-b362-fd458ea11947"
      },
      "outputs": [],
      "source": [
        "from langchain.chains import ConversationalRetrievalChain\n",
        "from langchain.prompts import HumanMessagePromptTemplate,SystemMessagePromptTemplate,ChatPromptTemplate"
      ]
    },
    {
      "cell_type": "code",
      "execution_count": null,
      "id": "94dec764-20bf-4413-b369-589465241c9a",
      "metadata": {
        "id": "94dec764-20bf-4413-b369-589465241c9a"
      },
      "outputs": [],
      "source": [
        "#1serious\n",
        "general_system_template1 = r\"\"\"\n",
        "Act as a medical assistant, given the drug name - please provide the summary of all the reviews,\n",
        "highlighting the percent of negative and positive reviews.\n",
        "Please wish health and provide one fun proverb at the end.\n",
        " ----\n",
        "{context}\n",
        "----\n",
        "\"\"\"\n",
        "general_user_template1 = \"Question:```{question}```\"\n",
        "messages1 = [\n",
        "            SystemMessagePromptTemplate.from_template(general_system_template1),\n",
        "            HumanMessagePromptTemplate.from_template(general_user_template1)\n",
        "]\n",
        "qa_prompt1 = ChatPromptTemplate.from_messages( messages1)\n",
        "chain1 = ConversationalRetrievalChain.from_llm(llama_model, vectorstore.as_retriever(), return_source_documents=True,\n",
        "                                             combine_docs_chain_kwargs={\"prompt\": qa_prompt1})"
      ]
    },
    {
      "cell_type": "code",
      "execution_count": null,
      "id": "653e761f-c1d8-473a-9c45-4b78862cbd90",
      "metadata": {
        "id": "653e761f-c1d8-473a-9c45-4b78862cbd90"
      },
      "outputs": [],
      "source": [
        "#1playful\n",
        "general_system_template2 = r\"\"\"\n",
        "Act as a friend: calm me down and given the drug name - please provide the summary of all the reviews,\n",
        "in form of a funny story like I am a child.\n",
        "Please wish health and provide one fun proverb at the end.\n",
        " ----\n",
        "{context}\n",
        "----\n",
        "\"\"\"\n",
        "general_user_template2 = \"Question:```{question}```\"\n",
        "messages2 = [\n",
        "            SystemMessagePromptTemplate.from_template(general_system_template2),\n",
        "            HumanMessagePromptTemplate.from_template(general_user_template2)\n",
        "]\n",
        "qa_prompt2 = ChatPromptTemplate.from_messages( messages2)\n",
        "chain2 = ConversationalRetrievalChain.from_llm(llama_model, vectorstore.as_retriever(), return_source_documents=True,\n",
        "                                             combine_docs_chain_kwargs={\"prompt\": qa_prompt2})"
      ]
    },
    {
      "cell_type": "code",
      "execution_count": null,
      "id": "8baa4216-73c7-4050-a61c-3a9c170b3ae7",
      "metadata": {
        "id": "8baa4216-73c7-4050-a61c-3a9c170b3ae7"
      },
      "outputs": [],
      "source": [
        "def give_summary(chain,query,chat_history = []):\n",
        "    #chat_history = [(query, result[\"answer\"])] #if we need to make a chatbot\n",
        "    result = chain({\"question\": query, \"chat_history\": chat_history})\n",
        "    return(md(result['answer']))"
      ]
    },
    {
      "cell_type": "code",
      "execution_count": null,
      "id": "058da22f-896d-40fc-af00-c9e4f6f1f97b",
      "metadata": {
        "id": "058da22f-896d-40fc-af00-c9e4f6f1f97b"
      },
      "outputs": [],
      "source": [
        "import pandas as pd\n",
        "\n",
        "df=pd.read_csv('drugLibTrain_raw.tsv', delimiter=\"\\t\")\n",
        "drugs  = sorted(df[\"urlDrugName\"].unique())\n",
        "\n",
        "df2=pd.read_csv('drugs_for_common_treatments.csv')"
      ]
    },
    {
      "cell_type": "code",
      "execution_count": null,
      "id": "14728553-b8d6-4a60-b7cc-2ddf66028494",
      "metadata": {
        "id": "14728553-b8d6-4a60-b7cc-2ddf66028494"
      },
      "outputs": [],
      "source": [
        "llm_resp = {\"serious\" : chain1, \"playful\": chain2}"
      ]
    },
    {
      "cell_type": "code",
      "execution_count": null,
      "id": "f48c6229-78d3-424a-97da-4cb8e855b2f2",
      "metadata": {
        "colab": {
          "referenced_widgets": [
            "7ddad4e3b9b5417d99acda94efa6cd18",
            "d02486a11adf45548f4fc96f0310ec69",
            "0ed556466a814b1d860aa004cbe4f25f",
            "c11779d351a54cf2a48dbbf85569b707"
          ]
        },
        "id": "f48c6229-78d3-424a-97da-4cb8e855b2f2",
        "outputId": "e94772e1-663f-4a08-f472-1e174e7456b3"
      },
      "outputs": [
        {
          "data": {
            "application/vnd.jupyter.widget-view+json": {
              "model_id": "7ddad4e3b9b5417d99acda94efa6cd18",
              "version_major": 2,
              "version_minor": 0
            },
            "text/plain": [
              "Dropdown(description='Drug name:', options=('abilify', 'accolate', 'accupril', 'accutane', 'aciphex', 'actiq',…"
            ]
          },
          "metadata": {},
          "output_type": "display_data"
        },
        {
          "data": {
            "application/vnd.jupyter.widget-view+json": {
              "model_id": "d02486a11adf45548f4fc96f0310ec69",
              "version_major": 2,
              "version_minor": 0
            },
            "text/plain": [
              "Dropdown(description='Summary:', options=('serious', 'playful'), value='serious')"
            ]
          },
          "metadata": {},
          "output_type": "display_data"
        },
        {
          "data": {
            "application/vnd.jupyter.widget-view+json": {
              "model_id": "0ed556466a814b1d860aa004cbe4f25f",
              "version_major": 2,
              "version_minor": 0
            },
            "text/plain": [
              "Button(button_style='info', description='Give summary', icon='check', style=ButtonStyle(), tooltip='Run report…"
            ]
          },
          "metadata": {},
          "output_type": "display_data"
        },
        {
          "data": {
            "application/vnd.jupyter.widget-view+json": {
              "model_id": "c11779d351a54cf2a48dbbf85569b707",
              "version_major": 2,
              "version_minor": 0
            },
            "text/plain": [
              "Output(layout=Layout(border_bottom='1px solid black', border_left='1px solid black', border_right='1px solid b…"
            ]
          },
          "metadata": {},
          "output_type": "display_data"
        }
      ],
      "source": [
        "import ipywidgets as widgets\n",
        "drug_dropdown = widgets.Dropdown(\n",
        "    options=drugs,\n",
        "    value=drugs[0],\n",
        "    description='Drug name:',\n",
        "    disabled=False,\n",
        ")\n",
        "display(drug_dropdown)\n",
        "\n",
        "llm_dropdown = widgets.Dropdown(\n",
        "    options=list(llm_resp.keys()),\n",
        "    value=list(llm_resp.keys())[0],\n",
        "    description='Summary:',\n",
        "    disabled=False,\n",
        ")\n",
        "display(llm_dropdown)\n",
        "\n",
        "button = widgets.Button(\n",
        "    description='Give summary',\n",
        "    disabled=False,\n",
        "    button_style='info', # 'success', 'info', 'warning', 'danger' or ''\n",
        "    tooltip='Run report',\n",
        "    icon='check'\n",
        ")\n",
        "display(button)\n",
        "\n",
        "out = widgets.Output(layout={'border': '1px solid black'})\n",
        "display(out)\n",
        "\n",
        "def on_button_clicked(b):\n",
        "    with out:\n",
        "        out.clear_output()\n",
        "        give_summary(llm_resp[llm_dropdown.value],drug_dropdown.value)\n",
        "        drug_url  = df2[df2['drug_name'].str.lower() == drug_dropdown.value.lower()][\"drug_link\"].head(1) #checking URL in the second dataset\n",
        "        if not drug_url.empty:\n",
        "            print(\"URL of the drug: \", drug_url.to_string(index=False, header=False))\n",
        "\n",
        "\n",
        "button.on_click(on_button_clicked, False)"
      ]
    },
    {
      "cell_type": "code",
      "execution_count": null,
      "id": "9024bce6-8daa-4516-995f-1bba2032351e",
      "metadata": {
        "id": "9024bce6-8daa-4516-995f-1bba2032351e"
      },
      "outputs": [],
      "source": []
    }
  ],
  "metadata": {
    "kernelspec": {
      "display_name": "Python 3 (ipykernel)",
      "language": "python",
      "name": "python3"
    },
    "language_info": {
      "codemirror_mode": {
        "name": "ipython",
        "version": 3
      },
      "file_extension": ".py",
      "mimetype": "text/x-python",
      "name": "python",
      "nbconvert_exporter": "python",
      "pygments_lexer": "ipython3",
      "version": "3.11.6"
    },
    "colab": {
      "provenance": []
    }
  },
  "nbformat": 4,
  "nbformat_minor": 5
}